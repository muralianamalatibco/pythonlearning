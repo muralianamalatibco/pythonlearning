{
  "nbformat": 4,
  "nbformat_minor": 0,
  "metadata": {
    "colab": {
      "provenance": [],
      "authorship_tag": "ABX9TyOha7jNZHBQOgTdvHx4F/Fo",
      "include_colab_link": true
    },
    "kernelspec": {
      "name": "python3",
      "display_name": "Python 3"
    },
    "language_info": {
      "name": "python"
    }
  },
  "cells": [
    {
      "cell_type": "markdown",
      "metadata": {
        "id": "view-in-github",
        "colab_type": "text"
      },
      "source": [
        "<a href=\"https://colab.research.google.com/github/muralianamalatibco/pythonlearning/blob/main/DAV_Assignments.ipynb\" target=\"_parent\"><img src=\"https://colab.research.google.com/assets/colab-badge.svg\" alt=\"Open In Colab\"/></a>"
      ]
    },
    {
      "cell_type": "code",
      "execution_count": 2,
      "metadata": {
        "id": "XzfJxsMdJH2E"
      },
      "outputs": [],
      "source": [
        "import numpy as np\n",
        "import pandas as pd\n",
        "import scipy.stats as stats\n",
        "import matplotlib.pyplot as plt\n",
        "import seaborn as sns\n",
        "import statsmodels.api as sm\n",
        "from statsmodels.formula.api import ols\n"
      ]
    },
    {
      "cell_type": "code",
      "source": [
        "\"\"\"\n",
        "A country has a population average height of 65 inches with a standard deviation of 2.5.\n",
        "A person feels people from his state are shorter. He takes the average of 20 people and sees that it is 64.5.\n",
        "\n",
        "At a 5% significance level (or 95% confidence level), can we conclude that people from his state are shorter, using the Z-test? What is the p-value?\"\"\"\n",
        "\n",
        "# H0 : hight of the peoples are sames avg = 65\n",
        "# Ha : avg height of people shorted avg < 65\n",
        "\n",
        "pop_mean = 65\n",
        "pop_std = 2.5\n",
        "samp_mean = 64.5\n",
        "n = 20\n",
        "\n",
        "alpha = 0.05\n",
        "\n",
        "se = pop_std / np.sqrt(n)\n",
        "\n",
        "z = (samp_mean - pop_mean) / se\n",
        "\n",
        "p_val = stats.norm.cdf(z)\n",
        "p_val, z"
      ],
      "metadata": {
        "colab": {
          "base_uri": "https://localhost:8080/"
        },
        "id": "PhQ9uBuRJW8V",
        "outputId": "c1cd29c2-807a-4507-e8fd-8fdb31560524"
      },
      "execution_count": null,
      "outputs": [
        {
          "output_type": "execute_result",
          "data": {
            "text/plain": [
              "(0.18554668476134878, -0.8944271909999159)"
            ]
          },
          "metadata": {},
          "execution_count": 6
        }
      ]
    },
    {
      "cell_type": "code",
      "source": [
        "\"\"\"A French cafe has historically maintained that their average daily pastry production is at most 500.\n",
        "\n",
        "With the installation of a new machine, they assert that the average daily pastry production has increased.\n",
        "The average number of pastries produced per day over a 70-day period was found to be 530.\n",
        "\n",
        "Assume that the population standard deviation for the pastries produced per day is 125.\n",
        "\n",
        "Perform a z-test with the critical z-value = 1.64 at the alpha (significance level) = 0.05 to evaluate \\\n",
        "if there's sufficient evidence to support their claim of the new machine producing more than 500 pastries daily.\n",
        "\n",
        "Note: Round off the z-score to two decimal places.\n",
        "\"\"\"\n",
        "# H0 : avg daily product <= 500\n",
        "# Ha : avg is more than > 500\n",
        "\n",
        "# Import necessary library\n",
        "import scipy.stats as stats\n",
        "\n",
        "# Define sample mean, standard deviation, and sample size\n",
        "sample_mean = 530\n",
        "population_std = 125\n",
        "sample_size = 70\n",
        "population_mean = 500\n",
        "\n",
        "# Calculate z-score\n",
        "z_score = (sample_mean - population_mean) / (population_std / np.sqrt(sample_size))\n",
        "\n",
        "# Round z-score to two decimal places\n",
        "z_score = round(z_score, 2)\n",
        "print(f\"z-score: {z_score}\")\n",
        "\n",
        "# Set critical z-value and confidence level\n",
        "confidence_level = 0.95\n",
        "critical_z = stats.norm.ppf(confidence_level)\n",
        "print(\"critical z-value:\",critical_z)\n",
        "\n",
        "# Check if the z-score is greater than the critical z-value\n",
        "\n",
        "if z_score > critical_z:\n",
        "    print(\"Reject the null hypothesis. The shop's claim is supported by the data.\")\n",
        "else:\n",
        "    print(\"Fail to reject the null hypothesis. There is not enough evidence to support the shop's claim.\")\n",
        "\n"
      ],
      "metadata": {
        "colab": {
          "base_uri": "https://localhost:8080/"
        },
        "id": "onn98C_uK4gU",
        "outputId": "49d75837-d289-4136-920d-cc94a1717a5f"
      },
      "execution_count": null,
      "outputs": [
        {
          "output_type": "stream",
          "name": "stdout",
          "text": [
            "z-score: 2.01\n",
            "critical z-value: 1.6448536269514722\n",
            "Reject the null hypothesis. The shop's claim is supported by the data.\n"
          ]
        }
      ]
    },
    {
      "cell_type": "code",
      "source": [
        "\"\"\"The Chai Point stall at Bengaluru airport estimates that each person visiting the store drinks an average of 1.7 small cups of tea.\n",
        "\n",
        "Assume a population standard deviation of 0.5 small cups. A sample of 30 customers collected over a few days averaged 1.85 small cups of tea per person.\n",
        "\n",
        "Test the claim using an appropriate test at an alpha = 0.05 significance value, with a critical z-score value of ±1.96.\n",
        "\n",
        "Note: Round off the z-score to two decimal places.\n",
        "The null and alternate hypotheses are:\n",
        "\n",
        "Null hypothesis (H0): the average number of small cups of tea per customer is equal to 1.7 (μ=1.7)\n",
        "Alternate hypothesis (Ha): the average number is either greater than or less than 1.7. (μ !=1.7)\n",
        "\"\"\"\n",
        "\n",
        "# Import necessary library\n",
        "import scipy.stats as stats\n",
        "import numpy as np\n",
        "\n",
        "# Define sample mean, standard deviation, and sample size\n",
        "sample_mean = 1.85\n",
        "population_std = 0.5\n",
        "sample_size = 30\n",
        "population_mean = 1.7\n",
        "\n",
        "# Calculate z-score\n",
        "z_score = (sample_mean - population_mean) / (population_std / np.sqrt(sample_size))\n",
        "\n",
        "# Round z-score to two decimal places\n",
        "z_score = np.round(z_score, 2)\n",
        "\n",
        "# Set alpha and critical z-score (use two-tailed since direction is unknown)\n",
        "alpha = 0.05\n",
        "critical_z = 1.96\n",
        "\n",
        "# Check if the z-score is greater than the critical z-value\n",
        "if abs(z_score) > critical_z:\n",
        "   print(f\"z-score: {z_score}\")\n",
        "   print(\"Reject the null hypothesis. The average tea consumption is likely different from the estimate.\")\n",
        "else:\n",
        "   print(f\"z-score: {z_score}\")\n",
        "   print(\"Fail to reject the null hypothesis. There is not enough evidence to support a difference from the estimated average.\")"
      ],
      "metadata": {
        "colab": {
          "base_uri": "https://localhost:8080/"
        },
        "id": "y5A3fySQMblR",
        "outputId": "802207a2-ad35-4ab7-e1de-56c9ba7cf7b3"
      },
      "execution_count": null,
      "outputs": [
        {
          "output_type": "stream",
          "name": "stdout",
          "text": [
            "z-score: 1.64\n",
            "Fail to reject the null hypothesis. There is not enough evidence to support a difference from the estimated average.\n"
          ]
        }
      ]
    },
    {
      "cell_type": "code",
      "source": [
        "\"\"\"\n",
        "A data scientist is looking at how a web application responds, with an average response time of 250 milliseconds and a standard deviation of 30 milliseconds.\n",
        "\n",
        "Find the critical value for a 96% confidence level.\n",
        "\n",
        "\"\"\"\n",
        "# Given values\n",
        "confidence_level = 0.96\n",
        "mean = 250  # Mean response time in milliseconds\n",
        "std_deviation = 30  # Standard deviation in milliseconds\n",
        "\n",
        "# A two-tailed test, considering both possibilities: the average response time could be higher or lower than 250 milliseconds.\n",
        "# Calculate the critical Z-score for a 96% confidence level\n",
        "critical_z = stats.norm.ppf(1 - (1 - confidence_level) / 2)\n",
        "\n",
        "# Calculate the critical value using Z-score formula\n",
        "critical_value = (critical_z * std_deviation) + mean\n",
        "\n",
        "\n",
        "print(f\"Critical Value: {critical_value:.4f}\")"
      ],
      "metadata": {
        "colab": {
          "base_uri": "https://localhost:8080/"
        },
        "id": "Sav1ovgsNX3n",
        "outputId": "6b3da536-527c-49ac-e857-d9b62097be7a"
      },
      "execution_count": null,
      "outputs": [
        {
          "output_type": "stream",
          "name": "stdout",
          "text": [
            "Critical Value: 311.6125\n"
          ]
        }
      ]
    },
    {
      "cell_type": "code",
      "source": [
        "\"\"\"\n",
        "It is known that the mean IQ of high school students is 100, and the standard deviation is 15.\n",
        "\n",
        "A coaching institute claims that candidates who study there have more IQ than an average high school student.\n",
        "When the IQ of 50 candidates was calculated, the average turned out to be 110\n",
        "\n",
        "Conduct an appropriate hypothesis test to test the institute’s claim, with a significance level of 5%\n",
        "\"\"\"\n",
        "\n",
        "# Null Hypothesis (H0): The average IQ of candidates from the institution is the same as the population's average IQ.(μ = 100)\n",
        "# Alternative Hypothesis (Ha): The average IQ of candidates from the institution is higher than the population's average IQ.(μ > 100)\n",
        "\n",
        "import scipy.stats as stats\n",
        "\n",
        "# Given values\n",
        "population_mean = 100\n",
        "population_std = 15\n",
        "sample_mean = 110\n",
        "sample_size = 50\n",
        "significance_level = 0.05\n",
        "\n",
        "# Calculate the standard error (standard deviation of the sample mean)\n",
        "standard_error = population_std / (sample_size**0.5)\n",
        "\n",
        "# Calculate the Z-score\n",
        "Z = (sample_mean - population_mean) / standard_error\n",
        "\n",
        "# Calculate the p-value for a one-tailed test\n",
        "p_value = 1 - stats.norm.cdf(Z)\n",
        "\n",
        "# Determine whether to reject the null hypothesis\n",
        "if p_value < significance_level:\n",
        "    conclusion = \"Reject the null hypothesis.Candidates who study at this coaching institution have more IQ than an average high school student.\"\n",
        "else:\n",
        "    conclusion = \"Fail to reject the null hypothesis. Candidates who study at this coaching institution have the same IQ as an average high school student.\"\n",
        "\n",
        "print(f\"Z-score: {Z}\")\n",
        "print(f\"P-value: {p_value}\")\n",
        "print(f\"Conclusion: {conclusion}\")"
      ],
      "metadata": {
        "colab": {
          "base_uri": "https://localhost:8080/"
        },
        "id": "ifISHG2oOobZ",
        "outputId": "12f99695-bd75-45c3-a017-05204b063af3"
      },
      "execution_count": null,
      "outputs": [
        {
          "output_type": "stream",
          "name": "stdout",
          "text": [
            "Z-score: 4.714045207910317\n",
            "P-value: 1.2142337364462463e-06\n",
            "Conclusion: Reject the null hypothesis.Candidates who study at this coaching institution have more IQ than an average high school student.\n"
          ]
        }
      ]
    },
    {
      "cell_type": "code",
      "source": [
        "\"\"\"\n",
        "When smokers smoke, nicotine is transformed into cotinine, which can be tested.\n",
        "\n",
        "The average cotinine level in a group of 50 smokers was 243.5 ng ml.\n",
        "\n",
        "Assuming that the standard deviation is known to be 229.5 ng ml.\n",
        "\n",
        "Test the assertion that the mean cotinine level of all smokers is equal to 300.0 ng ml, at 95% confidence.\n",
        "\"\"\"\n",
        "# Null Hypothesis (H0): The mean cotinine level of all smokers is equal to 300.0 ng/ml. (µ = 300.0 ng)\n",
        "# Alternative Hypothesis (Ha): The mean cotinine level of all smokers is not equal to 300.0 ng/ml. (µ ≠ 300.0 ng)\n",
        "\n",
        "import scipy.stats as stats\n",
        "\n",
        "# Given values\n",
        "sample_mean = 243.5  # Sample mean cotinine level\n",
        "population_std = 229.5  # Known population standard deviation\n",
        "population_mean = 300.0  # Hypothesized population mean\n",
        "sample_size = 50  # Sample size\n",
        "confidence_level = 0.95  # 95% confidence level\n",
        "\n",
        "# Calculate the Z-score\n",
        "standard_error = population_std / (sample_size**0.5)\n",
        "Z = (sample_mean - population_mean) / standard_error\n",
        "\n",
        "# Calculate the p-value for a two-tailed test\n",
        "p_value = 2 * (1 - stats.norm.cdf(abs(Z)))\n",
        "\n",
        "# Determine whether to reject the null hypothesis\n",
        "alpha = 1 - confidence_level\n",
        "if p_value < alpha:\n",
        "    conclusion = \"Reject the null hypothesis which means the mean cotinine level of all smokers is not equal to 300.0 ng/ml \"\n",
        "else:\n",
        "    conclusion = \"Fail to reject the null hypothesis which means the mean cotinine level of all smokers is equal to 300.0 ng/ml. \"\n",
        "\n",
        "print(f\"Z-score: {Z}\")\n",
        "print(f\"P-value: {p_value}\")\n",
        "print(f\"Conclusion: {conclusion}\")"
      ],
      "metadata": {
        "colab": {
          "base_uri": "https://localhost:8080/"
        },
        "id": "nSSxyqqXPsyn",
        "outputId": "2d63e151-f7fc-47de-e087-efedef3e74ea"
      },
      "execution_count": null,
      "outputs": [
        {
          "output_type": "stream",
          "name": "stdout",
          "text": [
            "Z-score: -1.7408075440976007\n",
            "P-value: 0.08171731915149638\n",
            "Conclusion: Fail to reject the null hypothesis which means the mean cotinine level of all smokers is equal to 300.0 ng/ml. \n"
          ]
        }
      ]
    },
    {
      "cell_type": "code",
      "source": [
        "\"\"\"\n",
        "For a quality control analysis, a factory assesses the tensile strength of a sample of steel rods.\n",
        "\n",
        "The sample exhibits a mean tensile strength of 750 MPa with a sample standard deviation of 50 MPa, while the known population mean is 800 MPa.\n",
        "\n",
        "Calculate Cohen's d for this quality control study.\n",
        "\"\"\"\n",
        "\n",
        "# d = (Sample Mean - Population Mean) / Sample Standard Deviation\n",
        "# = (750 - 800) / 50\n",
        "# = -1.0\n",
        "(750 - 800)/50"
      ],
      "metadata": {
        "colab": {
          "base_uri": "https://localhost:8080/"
        },
        "id": "tlVT0FSPRaFW",
        "outputId": "1ec4626f-3711-439f-94f8-909ce91b0d75"
      },
      "execution_count": null,
      "outputs": [
        {
          "output_type": "execute_result",
          "data": {
            "text/plain": [
              "-1.0"
            ]
          },
          "metadata": {},
          "execution_count": 19
        }
      ]
    },
    {
      "cell_type": "code",
      "source": [
        "\"\"\"\n",
        "The student hostel office at IIT Madras estimates that each student uses more than 3.5 buckets of water per day.\n",
        "\n",
        "In order to verify this claim, the college trustees decide to monitor the water consuption over the next 45 days,\n",
        "and it is found that on an average, 3.72 buckets of water is consumed by a student, per day.\n",
        "\n",
        "Assume that the population standard deviation is 0.7 buckets. What is the critical sample mean, assuming a critical z-value of 1.28?\n",
        "\n",
        "Note: The critical sample mean is defined as the mean value for which the z-score is equal to the critical value.\n",
        "Also, round off the final answer to three decimal places.\n",
        "\"\"\"\n",
        "import math\n",
        "\n",
        "# Given values\n",
        "population_mean = 3.5\n",
        "population_std = 0.7\n",
        "critical_z_value = 1.28\n",
        "sample_size = 45\n",
        "\n",
        "# Calculate the critical sample mean\n",
        "critical_sample_mean = population_mean + (critical_z_value * (population_std / math.sqrt(sample_size)))\n",
        "\n",
        "# Round off the answer to three decimal places\n",
        "critical_sample_mean = round(critical_sample_mean, 3)\n",
        "print(\"Critical Sample Mean:\", critical_sample_mean)"
      ],
      "metadata": {
        "colab": {
          "base_uri": "https://localhost:8080/"
        },
        "id": "jlIGmD6SR022",
        "outputId": "580369c5-73e5-46ca-eedc-3be7d332336e"
      },
      "execution_count": null,
      "outputs": [
        {
          "output_type": "stream",
          "name": "stdout",
          "text": [
            "Critical Sample Mean: 3.634\n"
          ]
        }
      ]
    },
    {
      "cell_type": "code",
      "source": [
        "\"\"\"\n",
        "The verbal reasoning in the GRE has an average score of 150 and a standard deviation of 8.5.\n",
        "\n",
        "A coaching centre claims that their students are better.\n",
        "An average of 10 people showed that students from this coaching centre have an average score of 155.\n",
        "\n",
        "At a 5% significance level (or 95% confidence level), can we conclude that students from the coaching centre are better?\n",
        "Use the Z-test, and compute the p-value.\n",
        "\"\"\"\n",
        "# Null Hypothesis (H0): The average verbal reasoning score of students from the coaching centre is the same as the national average verbal reasoning score.(μ = 150)\n",
        "# Alternative Hypothesis (Ha): The average verbal reasoning score of students from the coaching centr2 is better than the national average verbal reasoning score. (μ > 150)\n",
        "\n",
        "import scipy.stats as stats\n",
        "\n",
        "# Given data\n",
        "mu = 150  # Population average (national)\n",
        "sigma = 8.5  # Population standard deviation\n",
        "n = 10  # Sample size\n",
        "sample_mean = 155  # Sample mean\n",
        "\n",
        "# Calculate the standard error of the mean (SEM)\n",
        "sem = sigma / (n**0.5)\n",
        "\n",
        "# Calculate the Z-score\n",
        "Z = (sample_mean - mu) / sem\n",
        "\n",
        "# Calculate the p-value for the right-tailed test\n",
        "p_value = 1 - stats.norm.cdf(Z)\n",
        "\n",
        "# Set the significance level (alpha)\n",
        "alpha = 0.05\n",
        "\n",
        "# Compare the p-value to the significance level\n",
        "if p_value < alpha:\n",
        "    print(f\"p-value: {p_value}, Reject the null hypothesis. Hence students from the coaching center are better\")\n",
        "else:\n",
        "    print(f\"p-value: {p_value}, Fail to reject the null hypothesis. Hence students from the coaching center are not better\")"
      ],
      "metadata": {
        "colab": {
          "base_uri": "https://localhost:8080/"
        },
        "id": "G9kP1LZmSbKt",
        "outputId": "2a320fd1-6daf-4120-fb5c-021aefc910f2"
      },
      "execution_count": null,
      "outputs": [
        {
          "output_type": "stream",
          "name": "stdout",
          "text": [
            "p-value: 0.031431210741779014, Reject the null hypothesis. Hence students from the coaching center are better\n"
          ]
        }
      ]
    },
    {
      "cell_type": "code",
      "source": [
        "\"\"\"\n",
        "A company claims that the average time it takes to deliver a product to customers is 3 days.\n",
        "\n",
        "The company's delivery process is under scrutiny, and a sample of 25 delivery times is collected.\n",
        "The sample mean delivery time is 3.5 days, and the population standard deviation is known to be 0.8 days.\n",
        "\n",
        "\n",
        "At a 5% significance level, can we conclude that the average delivery time is greater than 3 days?\n",
        "\n",
        "Conduct a one-sample Z-test to determine the same. Also, evaluate the z-score for observed average time.\n",
        "\"\"\"\n",
        "n = 25\n",
        "samp_mean = 3.5\n",
        "pop_mean = 3\n",
        "pop_std = 0.8\n",
        "alpha = 0.05\n",
        "\n",
        "se = pop_std / np.sqrt(n)\n",
        "\n",
        "z = (samp_mean - pop_mean) / se\n",
        "\n",
        "p_val = 1 - stats.norm.cdf(z)\n",
        "p_val, z\n",
        "\n",
        "\n",
        "# Population parameters\n",
        "population_mean = 3  # Population average (Claimed) delivery time\n",
        "population_stddev = 0.8  # Population standard deviation\n",
        "\n",
        "\n",
        "# Sample statistics\n",
        "sample_mean = 3.5 # Sample delivery time observed\n",
        "sample_size = 25\n",
        "\n",
        "\n",
        "# Calculate the standard error of the sample mean\n",
        "standard_error = population_stddev / (sample_size ** 0.5)\n",
        "\n",
        "\n",
        "# Calculate the Z-score\n",
        "z_score = (sample_mean - population_mean) / standard_error\n",
        "\n",
        "\n",
        "# Calculate the p-value: Right Tailed test\n",
        "p_value = 1 - stats.norm.cdf(z_score)\n",
        "\n",
        "\n",
        "# Significance level\n",
        "alpha = 0.05\n",
        "\n",
        "\n",
        "# Compare p-value with the significance level\n",
        "if p_value < alpha:\n",
        "   print(f\"Reject the null hypothesis. The average delivery time is greater than 3 days\")\n",
        "else:\n",
        "   print(f\"Fail to reject the null hypothesis. The average delivery time is 3 days\")\n",
        "\n",
        "\n",
        "print(f\"Z-score: {z_score}\")\n",
        "print(f\"P-value: {p_value}\")"
      ],
      "metadata": {
        "colab": {
          "base_uri": "https://localhost:8080/"
        },
        "id": "hRFNlTc-S6wU",
        "outputId": "15d31255-0a9b-46e2-a1c1-3f9a0756144f"
      },
      "execution_count": null,
      "outputs": [
        {
          "output_type": "stream",
          "name": "stdout",
          "text": [
            "Reject the null hypothesis. The average delivery time is greater than 3 days\n",
            "Z-score: 3.125\n",
            "P-value: 0.0008890252991083925\n"
          ]
        }
      ]
    },
    {
      "cell_type": "code",
      "source": [
        "\"\"\"\n",
        "A marketing team aims to estimate the average time, visitors spend on their website.\n",
        "\n",
        "They gathered a random sample of 100 visitors and determined that the average time spent on the website was 4.5 minutes.\n",
        "\n",
        "The team is working under the assumption that the population's mean time spent on the website is 4.0 minutes, with a standard deviation of 1.2 minutes.\n",
        "\n",
        "Their goal is to estimate the true time spent on the website with a 95% confidence level.\n",
        "Calculate the confidence interval values and make a conclusion based on the calculated interval.\n",
        "\"\"\"\n",
        "n = 100\n",
        "pop_mean = 4.0\n",
        "pop_std = 1.2\n",
        "samp_mean = 4.5\n",
        "alpha = 0.05\n",
        "\n",
        "se = pop_std / np.sqrt(n)\n",
        "\n",
        "z_critical = stats.norm.ppf(1 - alpha/ 2)\n",
        "\n",
        "print(z_critical)\n",
        "\n",
        "confidence_level = (samp_mean - z_critical * se, samp_mean + z_critical * se)\n",
        "print(confidence_level)\n",
        "\n",
        "import scipy.stats as stats\n",
        "import numpy as np\n",
        "from scipy.stats import norm\n",
        "\n",
        "# Given data\n",
        "population_mean = 4.0\n",
        "sample_mean = 4.5\n",
        "population_stddev = 1.2\n",
        "sample_size = 100\n",
        "alpha = 0.05  # Significance level (1 - alpha will give us the confidence level)\n",
        "\n",
        "# Calculate the critical value (Z) for a two-tailed test at the given alpha level\n",
        "z_critical = norm.ppf(1 - alpha / 2)\n",
        "print(\"Critical Z-value:\", z_critical)\n",
        "\n",
        "# Calculate the margin of error\n",
        "margin_of_error = z_critical * (population_stddev / np.sqrt(sample_size))\n",
        "\n",
        "# Calculate the confidence interval\n",
        "confidence_interval = (sample_mean - margin_of_error, sample_mean + margin_of_error)\n",
        "print(\"Confidence Interval:\", confidence_interval)\n",
        "\n",
        "# Check if the population mean (4.0) falls within the confidence interval\n",
        "if confidence_interval[0] <= population_mean <= confidence_interval[1]:\n",
        "   print(\"The population mean falls within the confidence interval. Then we fail to reject the null hypothesis\")\n",
        "else:\n",
        "   print(\"The population mean does not fall within the confidence interval. Then we reject the null hypothesis\")\n"
      ],
      "metadata": {
        "colab": {
          "base_uri": "https://localhost:8080/"
        },
        "id": "Kkez9aGAUhpt",
        "outputId": "27cc2802-86ad-42ee-9eb8-265ac65dea90"
      },
      "execution_count": null,
      "outputs": [
        {
          "output_type": "stream",
          "name": "stdout",
          "text": [
            "1.959963984540054\n",
            "(4.264804321855194, 4.735195678144806)\n",
            "Critical Z-value: 1.959963984540054\n",
            "Confidence Interval: (4.264804321855194, 4.735195678144806)\n",
            "The population mean does not fall within the confidence interval. Then we reject the null hypothesis\n"
          ]
        }
      ]
    },
    {
      "cell_type": "code",
      "source": [
        "\"\"\"\n",
        "A researcher is conducting a hypothesis test with a significance level (α) of 0.05.\n",
        "\n",
        "The null hypothesis is that there is no effect, and the alternative hypothesis is that there is a significant effect.\n",
        "The researcher calculates the power of the test to be 0.80.\n",
        "\n",
        "What does a power of 0.80 signify in this context?\n",
        "\"\"\"\n"
      ],
      "metadata": {
        "id": "dk0Jo7TrWjbF"
      },
      "execution_count": null,
      "outputs": []
    },
    {
      "cell_type": "code",
      "source": [
        "study_hours = np.array([10, 15, 20, 25, 30, 35, 40, 45, 50, 55])\n",
        "exam_scores = np.array([60, 65, 70, 75, 80, 85, 90, 95, 100, 105])"
      ],
      "metadata": {
        "colab": {
          "base_uri": "https://localhost:8080/",
          "height": 162
        },
        "id": "Ekx4eeA8hAib",
        "outputId": "84ac4dd4-b3a1-4688-fb91-2ceb8acdca54"
      },
      "execution_count": 1,
      "outputs": [
        {
          "output_type": "error",
          "ename": "NameError",
          "evalue": "name 'np' is not defined",
          "traceback": [
            "\u001b[0;31m---------------------------------------------------------------------------\u001b[0m",
            "\u001b[0;31mNameError\u001b[0m                                 Traceback (most recent call last)",
            "\u001b[0;32m<ipython-input-1-683ad144bb5e>\u001b[0m in \u001b[0;36m<cell line: 1>\u001b[0;34m()\u001b[0m\n\u001b[0;32m----> 1\u001b[0;31m \u001b[0mstudy_hours\u001b[0m \u001b[0;34m=\u001b[0m \u001b[0mnp\u001b[0m\u001b[0;34m.\u001b[0m\u001b[0marray\u001b[0m\u001b[0;34m(\u001b[0m\u001b[0;34m[\u001b[0m\u001b[0;36m10\u001b[0m\u001b[0;34m,\u001b[0m \u001b[0;36m15\u001b[0m\u001b[0;34m,\u001b[0m \u001b[0;36m20\u001b[0m\u001b[0;34m,\u001b[0m \u001b[0;36m25\u001b[0m\u001b[0;34m,\u001b[0m \u001b[0;36m30\u001b[0m\u001b[0;34m,\u001b[0m \u001b[0;36m35\u001b[0m\u001b[0;34m,\u001b[0m \u001b[0;36m40\u001b[0m\u001b[0;34m,\u001b[0m \u001b[0;36m45\u001b[0m\u001b[0;34m,\u001b[0m \u001b[0;36m50\u001b[0m\u001b[0;34m,\u001b[0m \u001b[0;36m55\u001b[0m\u001b[0;34m]\u001b[0m\u001b[0;34m)\u001b[0m\u001b[0;34m\u001b[0m\u001b[0;34m\u001b[0m\u001b[0m\n\u001b[0m\u001b[1;32m      2\u001b[0m \u001b[0mexam_scores\u001b[0m \u001b[0;34m=\u001b[0m \u001b[0mnp\u001b[0m\u001b[0;34m.\u001b[0m\u001b[0marray\u001b[0m\u001b[0;34m(\u001b[0m\u001b[0;34m[\u001b[0m\u001b[0;36m60\u001b[0m\u001b[0;34m,\u001b[0m \u001b[0;36m65\u001b[0m\u001b[0;34m,\u001b[0m \u001b[0;36m70\u001b[0m\u001b[0;34m,\u001b[0m \u001b[0;36m75\u001b[0m\u001b[0;34m,\u001b[0m \u001b[0;36m80\u001b[0m\u001b[0;34m,\u001b[0m \u001b[0;36m85\u001b[0m\u001b[0;34m,\u001b[0m \u001b[0;36m90\u001b[0m\u001b[0;34m,\u001b[0m \u001b[0;36m95\u001b[0m\u001b[0;34m,\u001b[0m \u001b[0;36m100\u001b[0m\u001b[0;34m,\u001b[0m \u001b[0;36m105\u001b[0m\u001b[0;34m]\u001b[0m\u001b[0;34m)\u001b[0m\u001b[0;34m\u001b[0m\u001b[0;34m\u001b[0m\u001b[0m\n",
            "\u001b[0;31mNameError\u001b[0m: name 'np' is not defined"
          ]
        }
      ]
    }
  ]
}