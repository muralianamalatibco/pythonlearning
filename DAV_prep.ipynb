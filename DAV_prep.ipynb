{
  "nbformat": 4,
  "nbformat_minor": 0,
  "metadata": {
    "colab": {
      "provenance": [],
      "authorship_tag": "ABX9TyNHce/PZy8poc2++QxftnFK",
      "include_colab_link": true
    },
    "kernelspec": {
      "name": "python3",
      "display_name": "Python 3"
    },
    "language_info": {
      "name": "python"
    }
  },
  "cells": [
    {
      "cell_type": "markdown",
      "metadata": {
        "id": "view-in-github",
        "colab_type": "text"
      },
      "source": [
        "<a href=\"https://colab.research.google.com/github/muralianamalatibco/pythonlearning/blob/main/DAV_prep.ipynb\" target=\"_parent\"><img src=\"https://colab.research.google.com/assets/colab-badge.svg\" alt=\"Open In Colab\"/></a>"
      ]
    },
    {
      "cell_type": "code",
      "execution_count": 1,
      "metadata": {
        "id": "V9fjEugniWit"
      },
      "outputs": [],
      "source": [
        "import numpy as np\n",
        "import pandas as pd\n",
        "from scipy.stats import norm, binom"
      ]
    },
    {
      "cell_type": "markdown",
      "source": [
        "A country has a population average height of 65 inches with a standard deviation of 2.5. A person feels people from his state are shorter. He takes the average of 20 people and sees that it is 64.5.\n",
        "\n",
        "At a 5% significance level (or 95% confidence level), can we conclude that people from his state are shorter, using the Z-test? What is the p-value?"
      ],
      "metadata": {
        "id": "6iYgIWR7iiMR"
      }
    },
    {
      "cell_type": "code",
      "source": [
        "pop_mean = 65\n",
        "pop_std = 2.5\n",
        "samp_mean = 64.5\n",
        "samp_size = 20\n",
        "\n",
        "alpha = 0.05\n",
        "\n",
        "z_score = (samp_mean - pop_mean) / (pop_std / np.sqrt(samp_size))\n",
        "p_val = norm.cdf(z_score)\n",
        "print(f\"p-value: {round(p_val,3)}\")\n",
        "\n",
        "if p_val < alpha:\n",
        "    print(\"Reject null hypothesis\")\n",
        "else:\n",
        "    print(\"Fail to reject null hypothesis\")"
      ],
      "metadata": {
        "colab": {
          "base_uri": "https://localhost:8080/"
        },
        "id": "fp1YmVOVihRw",
        "outputId": "cc11183b-21c5-40ca-e7ed-88533863a291"
      },
      "execution_count": 5,
      "outputs": [
        {
          "output_type": "stream",
          "name": "stdout",
          "text": [
            "p-value: 0.186\n",
            "Fail to reject null hypothesis\n"
          ]
        }
      ]
    },
    {
      "cell_type": "markdown",
      "source": [
        "A French cafe has historically maintained that their average daily pastry production is at most 500.\n",
        "\n",
        "With the installation of a new machine, they assert that the average daily pastry production has increased. The average number of pastries produced per day over a 70-day period was found to be 530.\n",
        "\n",
        "Assume that the population standard deviation for the pastries produced per day is 125.\n",
        "\n",
        "Perform a z-test with the critical z-value = 1.64 at the alpha (significance level) = 0.05 to evaluate if there's sufficient evidence to support their claim of the new machine producing more than 500 pastries daily.\n",
        "\n",
        "Note: Round off the z-score to two decimal places."
      ],
      "metadata": {
        "id": "2sf15VSnjbqK"
      }
    },
    {
      "cell_type": "code",
      "source": [
        "pop_mean = 500\n",
        "samp_mean = 530\n",
        "samp_size = 70\n",
        "pop_std = 125\n",
        "alpha = 0.05\n",
        "z_critical = 1.64\n",
        "\n",
        "z_score = (samp_mean - pop_mean) / (pop_std / np.sqrt(samp_size))\n",
        "print(f\"z-score: {round(z_score,2)}\")\n",
        "\n",
        "if z_score > z_critical:\n",
        "    print(\"Reject null hypothesis\")\n",
        "else:\n",
        "    print(\"Fail to reject null hypothesis\")"
      ],
      "metadata": {
        "colab": {
          "base_uri": "https://localhost:8080/"
        },
        "id": "FOJp9Y_xjeZi",
        "outputId": "3bff2932-c633-4c70-e449-fc8e8a097395"
      },
      "execution_count": 8,
      "outputs": [
        {
          "output_type": "stream",
          "name": "stdout",
          "text": [
            "z-score: 2.01\n",
            "Reject null hypothesis\n"
          ]
        }
      ]
    }
  ]
}